{
  "nbformat": 4,
  "nbformat_minor": 0,
  "metadata": {
    "colab": {
      "name": "Stepic.ipynb",
      "provenance": [],
      "authorship_tag": "ABX9TyN4QGP1uJgjF25LKOQSuuLB",
      "include_colab_link": true
    },
    "kernelspec": {
      "name": "python3",
      "display_name": "Python 3"
    },
    "language_info": {
      "name": "python"
    }
  },
  "cells": [
    {
      "cell_type": "markdown",
      "metadata": {
        "id": "view-in-github",
        "colab_type": "text"
      },
      "source": [
        "<a href=\"https://colab.research.google.com/github/olgaselassieva/home_project_python/blob/branch_python_hw_02/Stepic.ipynb\" target=\"_parent\"><img src=\"https://colab.research.google.com/assets/colab-badge.svg\" alt=\"Open In Colab\"/></a>"
      ]
    },
    {
      "cell_type": "markdown",
      "source": [
        "Задача 1. Создать список и заполнить его элементами различных типовданных. Написать скрипт проверки типа каждого элемента. Использовать функцию type() для проверки типа. Элементы списка можно не запрашивать у пользователя , а указать их самостоятельно."
      ],
      "metadata": {
        "id": "ghN-Wf0mDyPR"
      }
    },
    {
      "cell_type": "code",
      "execution_count": null,
      "metadata": {
        "id": "BMU4ZVSUXE_G",
        "colab": {
          "base_uri": "https://localhost:8080/"
        },
        "outputId": "505862e6-9c5c-413f-c457-be551d54e650"
      },
      "outputs": [
        {
          "output_type": "stream",
          "name": "stdout",
          "text": [
            "<class 'int'>\n",
            "<class 'float'>\n",
            "<class 'bool'>\n",
            "<class 'str'>\n"
          ]
        }
      ],
      "source": [
        "l1 = [1, 1.2, True, 'string']\n",
        "for i in l1:\n",
        "  print(type(i))\n",
        "\n",
        "\n",
        "  \n",
        "\n"
      ]
    },
    {
      "cell_type": "markdown",
      "source": [
        "Задача 2. Для списка реализовать обмен значениями соседних элементов списка. Значениями обмениваются элементы с индексами 0 и 1, 2 и 3 и т.д При нечетном кол-ве элементов последний сохранить на своем месте. Для заполнения списка элементов использовать функцию input()."
      ],
      "metadata": {
        "id": "A6TcDzorDhK8"
      }
    },
    {
      "cell_type": "code",
      "source": [
        "n = int(input('Ведите кол-во элементов в списке: '))\n",
        "l1 =[]\n",
        "l2 =[]\n",
        "x = 0\n",
        "for i in range(n):\n",
        "  s = input('Введите элементы списка: ')\n",
        "  l1.append(s)\n",
        "\n",
        "\n",
        "r = l1[::2]\n",
        "l = l1[1::2]\n",
        "\n",
        "\n",
        "res = []\n",
        "for x1, x2 in zip(r, l):\n",
        "  res += [x2, x1]\n",
        "if len(res) < n:\n",
        "  res.append(l1[-1])\n",
        "\n",
        "print(res)\n",
        "\n",
        "         \n",
        "\n",
        "\n",
        "  \n"
      ],
      "metadata": {
        "colab": {
          "base_uri": "https://localhost:8080/"
        },
        "id": "N5LRjf2FHpWU",
        "outputId": "cfda8b11-a77a-4905-c82e-3b80d202078f"
      },
      "execution_count": null,
      "outputs": [
        {
          "output_type": "stream",
          "name": "stdout",
          "text": [
            "Ведите кол-во элементов в списке: 5\n",
            "Введите элементы списка: 1\n",
            "Введите элементы списка: 2\n",
            "Введите элементы списка: 3\n",
            "Введите элементы списка: 4\n",
            "Введите элементы списка: 5\n",
            "['2', '1', '4', '3', '5']\n"
          ]
        }
      ]
    },
    {
      "cell_type": "markdown",
      "source": [
        "Задача 3. Пользователь вводит месяц в ввиде числа от 1 до 12ю Сообщить ему к какому времени году относится месяц(зима, весна, лето, осень) Решение через list() dict()\n"
      ],
      "metadata": {
        "id": "VzPHJNzrMJBu"
      }
    },
    {
      "cell_type": "code",
      "source": [
        "\n",
        "m = int(input())\n",
        "if  1 <= m <= 2 or m == 12:\n",
        "  zima = {1:'зима', 2:'зима', 12:'зима' }\n",
        "  print(zima.get(m))\n",
        "if m >=3 and m <= 5:\n",
        "  vesna = {3:'весна', 4:'весна', 5:'весна'}\n",
        "  print(vesna.get(m))\n",
        "if m >= 6 and m <= 8:\n",
        "  leto = {6:'лето', 7:'лето', 8:'лето'}\n",
        "  print(leto.get(m))\n",
        "if m >= 9 and m <= 11:\n",
        "  osen = {9:'весна', 10:'весна', 11:'весна'}\n",
        "  print(osen.get(m)) "
      ],
      "metadata": {
        "colab": {
          "base_uri": "https://localhost:8080/"
        },
        "id": "5Ikr0H8nMsgq",
        "outputId": "84c2a792-7d32-4d3e-c90d-baddf7299f9d"
      },
      "execution_count": 36,
      "outputs": [
        {
          "output_type": "stream",
          "name": "stdout",
          "text": [
            "4\n",
            "весна\n"
          ]
        }
      ]
    },
    {
      "cell_type": "markdown",
      "source": [
        "Задача 4. Пользователь вводит строку из нескольких слов через пробелы. Вывести каждое слово в новой строке. Строки нужно пронумеровать. Если слово длинное выводить только первые 10 букв."
      ],
      "metadata": {
        "id": "FwnBF0kMWzVo"
      }
    },
    {
      "cell_type": "code",
      "source": [
        "s = input()\n",
        "S = s.split()\n",
        "#print(S)\n",
        "i = 1\n",
        "for i in range(0, len(S)):\n",
        "  if len(S[i]) <= 10:\n",
        "      print(i,')' ,S[i])\n",
        "  if len(S[i]) > 10:\n",
        "      print(i,')' ,S[i[:11]])\n",
        "\n",
        "\n"
      ],
      "metadata": {
        "colab": {
          "base_uri": "https://localhost:8080/"
        },
        "id": "9qDfyOEZXprA",
        "outputId": "a66ee9c9-4402-4abe-c7f7-05d39d7b25f7"
      },
      "execution_count": 55,
      "outputs": [
        {
          "output_type": "stream",
          "name": "stdout",
          "text": [
            "Pppppppp10 ppppp pppp\n",
            "0 ) Pppppppp10\n",
            "1 ) ppppp\n",
            "2 ) pppp\n"
          ]
        }
      ]
    },
    {
      "cell_type": "markdown",
      "source": [
        "Задача 5. Реализовать структуру \"рейтинг\", представляющих собой набор натуральных чисел, который не возрастает. У пользователя запрашиваем новый элемент рейтинга. Если в рейтинге существуют элементы с одинаковыми значениями, то новый элемент с этим значением должен разместиться в конце. Набор натуральных чисел задаем в коде list ={}"
      ],
      "metadata": {
        "id": "tCPOVu7lfaaR"
      }
    },
    {
      "cell_type": "code",
      "source": [
        "\n",
        "list1 = [8,4,4,3,2]\n",
        "n = int(input())\n",
        "count = 0\n",
        "for i in range(len(list1)):\n",
        "  count +=1\n",
        "  if list1[i] == n:\n",
        "    list1.insert(i + 1,n)\n",
        "    if count > 1:\n",
        "      break\n",
        "  if list1[-1] > n:\n",
        "    list1.append(n)\n",
        "  if list1[0] < n:\n",
        "    list1.insert(0,n)\n",
        "\n",
        "\n",
        "print(list1)"
      ],
      "metadata": {
        "colab": {
          "base_uri": "https://localhost:8080/"
        },
        "id": "JSBjA9I2gcwO",
        "outputId": "271107c0-a180-42d1-d0d8-5480be3f53e4"
      },
      "execution_count": 74,
      "outputs": [
        {
          "output_type": "stream",
          "name": "stdout",
          "text": [
            "1\n",
            "[8, 4, 4, 3, 2, 1]\n"
          ]
        }
      ]
    },
    {
      "cell_type": "code",
      "source": [
        ""
      ],
      "metadata": {
        "id": "G6byg55imuBz"
      },
      "execution_count": null,
      "outputs": []
    }
  ]
}